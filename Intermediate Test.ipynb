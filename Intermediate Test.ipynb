{
 "cells": [
  {
   "cell_type": "code",
   "execution_count": 3,
   "metadata": {},
   "outputs": [
    {
     "name": "stdout",
     "output_type": "stream",
     "text": [
      " Azerbaijan\n",
      "Visa on arrival\n",
      "30 days; available at airports eVisa is also available.\n"
     ]
    }
   ],
   "source": [
    "import bs4 as bs\n",
    "import urllib.request\n",
    "import numpy as np\n",
    "import requests\n",
    "import re\n",
    "import unicodedata\n",
    "\n",
    "sauce = urllib.request.urlopen('https://en.wikipedia.org/wiki/Visa_requirements_for_Chinese_citizens').read()\n",
    "soup = bs.BeautifulSoup(sauce, 'lxml')\n",
    "\n",
    "start = soup.table.find('td')\n",
    "end = soup.find('table').findNext('table').find('td')\n",
    "\n",
    "countries = []\n",
    "new_countries = []\n",
    "\n",
    "while start != end:\n",
    "\tcountries.append(start.text)\n",
    "\tstart = start.findNext('td')\n",
    "\n",
    "for item in countries: \n",
    "\tnew_item = re.sub('[[]\\d{1,3}[]]', '', item)\n",
    "\tnew_countries.append(new_item)\n",
    "\n",
    "#print(new_countries)\n",
    "\n",
    "country = []\n",
    "requirement = []\n",
    "comment = []\n",
    "\n",
    "c_ind = 0\n",
    "country.append(new_countries[0])\n",
    "\n",
    "for thing in new_countries:\n",
    "\tfirst_el = new_countries[c_ind]\n",
    "\tc_ind = (c_ind + 3) % len(new_countries)\n",
    "\tnext_el = new_countries[c_ind]\n",
    "\tcountry.append(next_el)\n",
    "country.pop()\n",
    "\n",
    "req_ind = 1\n",
    "requirement.append(new_countries[1])\n",
    "\n",
    "for thing in new_countries:\n",
    "\tfirst_el = new_countries[req_ind]\n",
    "\treq_ind = (req_ind + 3) % len(new_countries)   #why % len?\n",
    "\tnext_el = new_countries[req_ind]\n",
    "\trequirement.append(next_el)\n",
    "requirement.pop()\n",
    "\n",
    "com_ind = 2\n",
    "comment.append(new_countries[2])\n",
    "\n",
    "for thing in new_countries:\n",
    "\tfirst_el = new_countries[com_ind]\n",
    "\tcom_ind = (com_ind + 3) % len(new_countries)\n",
    "\tnext_el = new_countries[com_ind]\n",
    "\tcomment.append(next_el)\n",
    "comment.pop()\n",
    "\n",
    "\n",
    "print(country[10])\n",
    "print(requirement[10])\n",
    "print(comment[10])"
   ]
  },
  {
   "cell_type": "code",
   "execution_count": null,
   "metadata": {
    "collapsed": true
   },
   "outputs": [],
   "source": []
  },
  {
   "cell_type": "code",
   "execution_count": null,
   "metadata": {
    "collapsed": true
   },
   "outputs": [],
   "source": []
  }
 ],
 "metadata": {
  "kernelspec": {
   "display_name": "Python 3",
   "language": "python",
   "name": "python3"
  },
  "language_info": {
   "codemirror_mode": {
    "name": "ipython",
    "version": 3
   },
   "file_extension": ".py",
   "mimetype": "text/x-python",
   "name": "python",
   "nbconvert_exporter": "python",
   "pygments_lexer": "ipython3",
   "version": "3.6.1"
  }
 },
 "nbformat": 4,
 "nbformat_minor": 2
}
