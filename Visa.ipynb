{
 "cells": [
  {
   "cell_type": "code",
   "execution_count": 30,
   "metadata": {},
   "outputs": [
    {
     "name": "stdout",
     "output_type": "stream",
     "text": [
      "Where are you going? Mauritania\n",
      "Visa on arrival - Available at Nouakchott–Oumtounsy International Airport.\n"
     ]
    }
   ],
   "source": [
    "import csv\n",
    "\n",
    "with open (\"/Users/evaverne/Documents/Programming/Flask/AUS.csv\") as csvfile:\n",
    "    readCSV = csv.reader(csvfile)\n",
    "\n",
    "    countries = []\n",
    "    requirements = []\n",
    "    comments = []\n",
    "    \n",
    "    for row in readCSV:\n",
    "        country = row[0]\n",
    "        req = row[1]\n",
    "        com = row[2]\n",
    "        \n",
    "        countries.append(country)\n",
    "        requirements.append(req)\n",
    "        comments.append(com)\n",
    "\n",
    "getcountry = input(\"Where are you going? \")\n",
    "\n",
    "answer = countries.index(getcountry)\n",
    "\n",
    "givereq = requirements[answer]\n",
    "givecom = comments[answer]\n",
    "\n",
    "print(givereq,'-', givecom)\n"
   ]
  },
  {
   "cell_type": "code",
   "execution_count": null,
   "metadata": {
    "collapsed": true
   },
   "outputs": [],
   "source": []
  }
 ],
 "metadata": {
  "kernelspec": {
   "display_name": "Python 3",
   "language": "python",
   "name": "python3"
  },
  "language_info": {
   "codemirror_mode": {
    "name": "ipython",
    "version": 3
   },
   "file_extension": ".py",
   "mimetype": "text/x-python",
   "name": "python",
   "nbconvert_exporter": "python",
   "pygments_lexer": "ipython3",
   "version": "3.6.1"
  }
 },
 "nbformat": 4,
 "nbformat_minor": 2
}
